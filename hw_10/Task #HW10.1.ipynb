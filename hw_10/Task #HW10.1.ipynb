{
 "cells": [
  {
   "cell_type": "markdown",
   "metadata": {},
   "source": [
    "## Task #L10.2"
   ]
  },
  {
   "cell_type": "markdown",
   "metadata": {},
   "source": [
    "### Imports:"
   ]
  },
  {
   "cell_type": "code",
   "execution_count": 4,
   "metadata": {},
   "outputs": [],
   "source": [
    "import pandas as pd"
   ]
  },
  {
   "cell_type": "markdown",
   "metadata": {},
   "source": [
    "### Reading csv to df"
   ]
  },
  {
   "cell_type": "code",
   "execution_count": 6,
   "metadata": {},
   "outputs": [],
   "source": [
    "df = pd.read_csv('./Summer Olympic medallists 1896 to 2008 - ALL MEDALISTS.csv', skiprows=4) "
   ]
  },
  {
   "cell_type": "code",
   "execution_count": 34,
   "metadata": {},
   "outputs": [],
   "source": [
    "usa_athlets = df[df.NOC == 'USA']"
   ]
  },
  {
   "cell_type": "code",
   "execution_count": 51,
   "metadata": {},
   "outputs": [
    {
     "data": {
      "text/plain": [
       "Edition  Athlete                 \n",
       "1896     BLAKE, Arthur               1\n",
       "         BURKE, Thomas               2\n",
       "         CLARK, Ellery               2\n",
       "         CONNOLLY, James             3\n",
       "         CURTIS, Thomas              1\n",
       "         GARRETT, Robert             4\n",
       "         HOYT, William Welles        1\n",
       "         JAMISON, Herbert            1\n",
       "         LANE, Francis               1\n",
       "         PAINE, John                 1\n",
       "         PAINE, Sumner               2\n",
       "         TYLER, Albert               1\n",
       "1900     ABBOTT, Margaret Ives       1\n",
       "         ABELL, Louis                1\n",
       "         BAXTER, Irving              5\n",
       "         BRAY, John                  1\n",
       "         CARR, William               1\n",
       "         COLKETT, Meredith Bright    1\n",
       "         CONNOLLY, James             1\n",
       "         CREGAN, John                1\n",
       "         DEBAECKE, Harry             1\n",
       "         EWRY, Ray                   3\n",
       "         EXLEY, John                 1\n",
       "         FLANAGAN, John Jesus        1\n",
       "         GARRETT, Robert             2\n",
       "         GEIGER, John                1\n",
       "         HALL, David                 1\n",
       "         HARE, Thomas Truxton        1\n",
       "         HEDLEY, Edward              1\n",
       "         HOLLAND, William            1\n",
       "                                    ..\n",
       "2008     VANDERKAAY, Peter           2\n",
       "         VARELLAS, Peter             1\n",
       "         VENDT, Erik                 1\n",
       "         VILLA, Brenda               1\n",
       "         VOLPENHEIN, Bryan           1\n",
       "         WADE, Dwyane                1\n",
       "         WAGNER, Aly                 1\n",
       "         WALSH, Daniel               1\n",
       "         WALSH, Kerri                1\n",
       "         WALTERS, David              1\n",
       "         WARD, Becca                 2\n",
       "         WARD, Mclain                1\n",
       "         WARINER, Jeremy             2\n",
       "         WATLEY, Natasha             1\n",
       "         WEATHERS, Casey             1\n",
       "         WEBER-GALE, Garrett         2\n",
       "         WENGER, Lauren              1\n",
       "         WHEELER, Adam               1\n",
       "         WHIPPLE, Mary               1\n",
       "         WILDER, Deontay             1\n",
       "         WILDMAN-TOBRINER, Ben       1\n",
       "         WILLIAMS, Deron             1\n",
       "         WILLIAMS, James             1\n",
       "         WILLIAMS, Serena            1\n",
       "         WILLIAMS, Venus             1\n",
       "         WILLOUGHBY, Kim             1\n",
       "         WINDES, Elsie               1\n",
       "         WINEBERG, Mary              1\n",
       "         WRIGHT, Adam                1\n",
       "         ZAGUNIS, Mariel             2\n",
       "Length: 3549, dtype: int64"
      ]
     },
     "execution_count": 51,
     "metadata": {},
     "output_type": "execute_result"
    }
   ],
   "source": [
    "usa_athlets.groupby(['Edition', 'Athlete']).size()"
   ]
  },
  {
   "cell_type": "code",
   "execution_count": null,
   "metadata": {},
   "outputs": [],
   "source": []
  }
 ],
 "metadata": {
  "kernelspec": {
   "display_name": "Python 3",
   "language": "python",
   "name": "python3"
  },
  "language_info": {
   "codemirror_mode": {
    "name": "ipython",
    "version": 3
   },
   "file_extension": ".py",
   "mimetype": "text/x-python",
   "name": "python",
   "nbconvert_exporter": "python",
   "pygments_lexer": "ipython3",
   "version": "3.5.2"
  }
 },
 "nbformat": 4,
 "nbformat_minor": 2
}
