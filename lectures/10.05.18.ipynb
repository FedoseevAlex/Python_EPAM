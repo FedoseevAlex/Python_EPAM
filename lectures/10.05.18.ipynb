{
 "cells": [
  {
   "cell_type": "code",
   "execution_count": 117,
   "metadata": {},
   "outputs": [],
   "source": [
    "import urllib.request\n",
    "import csv\n",
    "import codecs"
   ]
  },
  {
   "cell_type": "code",
   "execution_count": 118,
   "metadata": {},
   "outputs": [],
   "source": [
    "url = 'https://raw.githubusercontent.com/datasciencedojo/datasets/master/titanic.csv'"
   ]
  },
  {
   "cell_type": "code",
   "execution_count": 119,
   "metadata": {},
   "outputs": [],
   "source": [
    "dat = urllib.request.urlopen(url)"
   ]
  },
  {
   "cell_type": "code",
   "execution_count": 120,
   "metadata": {},
   "outputs": [],
   "source": [
    "reader = csv.reader(codecs.iterdecode(dat, 'utf-8'))"
   ]
  },
  {
   "cell_type": "code",
   "execution_count": 121,
   "metadata": {},
   "outputs": [],
   "source": [
    "data = []\n",
    "for row in reader:\n",
    "    data.append(row)"
   ]
  },
  {
   "cell_type": "code",
   "execution_count": 122,
   "metadata": {},
   "outputs": [
    {
     "data": {
      "text/plain": [
       "[['PassengerId',\n",
       "  'Survived',\n",
       "  'Pclass',\n",
       "  'Name',\n",
       "  'Sex',\n",
       "  'Age',\n",
       "  'SibSp',\n",
       "  'Parch',\n",
       "  'Ticket',\n",
       "  'Fare',\n",
       "  'Cabin',\n",
       "  'Embarked'],\n",
       " ['1',\n",
       "  '0',\n",
       "  '3',\n",
       "  'Braund, Mr. Owen Harris',\n",
       "  'male',\n",
       "  '22',\n",
       "  '1',\n",
       "  '0',\n",
       "  'A/5 21171',\n",
       "  '7.25',\n",
       "  '',\n",
       "  'S'],\n",
       " ['2',\n",
       "  '1',\n",
       "  '1',\n",
       "  'Cumings, Mrs. John Bradley (Florence Briggs Thayer)',\n",
       "  'female',\n",
       "  '38',\n",
       "  '1',\n",
       "  '0',\n",
       "  'PC 17599',\n",
       "  '71.2833',\n",
       "  'C85',\n",
       "  'C'],\n",
       " ['3',\n",
       "  '1',\n",
       "  '3',\n",
       "  'Heikkinen, Miss. Laina',\n",
       "  'female',\n",
       "  '26',\n",
       "  '0',\n",
       "  '0',\n",
       "  'STON/O2. 3101282',\n",
       "  '7.925',\n",
       "  '',\n",
       "  'S'],\n",
       " ['4',\n",
       "  '1',\n",
       "  '1',\n",
       "  'Futrelle, Mrs. Jacques Heath (Lily May Peel)',\n",
       "  'female',\n",
       "  '35',\n",
       "  '1',\n",
       "  '0',\n",
       "  '113803',\n",
       "  '53.1',\n",
       "  'C123',\n",
       "  'S'],\n",
       " ['5',\n",
       "  '0',\n",
       "  '3',\n",
       "  'Allen, Mr. William Henry',\n",
       "  'male',\n",
       "  '35',\n",
       "  '0',\n",
       "  '0',\n",
       "  '373450',\n",
       "  '8.05',\n",
       "  '',\n",
       "  'S'],\n",
       " ['6',\n",
       "  '0',\n",
       "  '3',\n",
       "  'Moran, Mr. James',\n",
       "  'male',\n",
       "  '',\n",
       "  '0',\n",
       "  '0',\n",
       "  '330877',\n",
       "  '8.4583',\n",
       "  '',\n",
       "  'Q'],\n",
       " ['7',\n",
       "  '0',\n",
       "  '1',\n",
       "  'McCarthy, Mr. Timothy J',\n",
       "  'male',\n",
       "  '54',\n",
       "  '0',\n",
       "  '0',\n",
       "  '17463',\n",
       "  '51.8625',\n",
       "  'E46',\n",
       "  'S'],\n",
       " ['8',\n",
       "  '0',\n",
       "  '3',\n",
       "  'Palsson, Master. Gosta Leonard',\n",
       "  'male',\n",
       "  '2',\n",
       "  '3',\n",
       "  '1',\n",
       "  '349909',\n",
       "  '21.075',\n",
       "  '',\n",
       "  'S'],\n",
       " ['9',\n",
       "  '1',\n",
       "  '3',\n",
       "  'Johnson, Mrs. Oscar W (Elisabeth Vilhelmina Berg)',\n",
       "  'female',\n",
       "  '27',\n",
       "  '0',\n",
       "  '2',\n",
       "  '347742',\n",
       "  '11.1333',\n",
       "  '',\n",
       "  'S']]"
      ]
     },
     "execution_count": 122,
     "metadata": {},
     "output_type": "execute_result"
    }
   ],
   "source": [
    "data[:10]"
   ]
  },
  {
   "cell_type": "code",
   "execution_count": 123,
   "metadata": {},
   "outputs": [],
   "source": [
    "names = data[0]\n",
    "del data[0]"
   ]
  },
  {
   "cell_type": "code",
   "execution_count": 124,
   "metadata": {},
   "outputs": [],
   "source": [
    "survived = [int(i[1]) for i in data]\n",
    "pclass = [int(i[2]) for i in data]"
   ]
  },
  {
   "cell_type": "code",
   "execution_count": 125,
   "metadata": {},
   "outputs": [],
   "source": [
    "def f(x):\n",
    "    if x == 'male':\n",
    "        return 0\n",
    "    elif x == 'female':\n",
    "        return 1\n",
    "    else:\n",
    "        return -1\n",
    "sex = [f(i[4]) for i in data]"
   ]
  },
  {
   "cell_type": "code",
   "execution_count": 126,
   "metadata": {},
   "outputs": [],
   "source": [
    "age = [float(i[5]) for i in data if i[5]]"
   ]
  },
  {
   "cell_type": "code",
   "execution_count": 127,
   "metadata": {},
   "outputs": [],
   "source": [
    "fare = [float(i[9]) for i in data]"
   ]
  },
  {
   "cell_type": "code",
   "execution_count": 128,
   "metadata": {},
   "outputs": [
    {
     "name": "stdout",
     "output_type": "stream",
     "text": [
      "19.0% missing data in Age\n"
     ]
    }
   ],
   "source": [
    "print(\"{}% missing data in Age\".format((1 - len(age)/len(data)) * 1000 // 10))"
   ]
  },
  {
   "cell_type": "code",
   "execution_count": 129,
   "metadata": {},
   "outputs": [
    {
     "data": {
      "text/plain": [
       "29.69911764705882"
      ]
     },
     "execution_count": 129,
     "metadata": {},
     "output_type": "execute_result"
    }
   ],
   "source": [
    "def mean(x):\n",
    "    return sum(x) / len(x)\n",
    "\n",
    "mean(age)"
   ]
  },
  {
   "cell_type": "code",
   "execution_count": 130,
   "metadata": {},
   "outputs": [
    {
     "data": {
      "text/plain": [
       "28.0"
      ]
     },
     "execution_count": 130,
     "metadata": {},
     "output_type": "execute_result"
    }
   ],
   "source": [
    "def median(x):\n",
    "    sorted_x = sorted(x)\n",
    "    length = len(x)\n",
    "    mid = length // 2\n",
    "    if length % 2:\n",
    "        return sorted_x[mid]\n",
    "    else:\n",
    "        return mean([(sorted_x[mid] + sorted_x[mid -1]) / 2])\n",
    "median(age)"
   ]
  },
  {
   "cell_type": "code",
   "execution_count": 131,
   "metadata": {},
   "outputs": [],
   "source": [
    "from collections import Counter"
   ]
  },
  {
   "cell_type": "code",
   "execution_count": 132,
   "metadata": {},
   "outputs": [
    {
     "data": {
      "text/plain": [
       "[24.0]"
      ]
     },
     "execution_count": 132,
     "metadata": {},
     "output_type": "execute_result"
    }
   ],
   "source": [
    "def mode(x):\n",
    "    counts = Counter(x)\n",
    "    max_val = max(counts.values())\n",
    "    return [k for k, count in counts.items() if count == max_val]\n",
    "mode(age)"
   ]
  },
  {
   "cell_type": "code",
   "execution_count": 133,
   "metadata": {},
   "outputs": [],
   "source": [
    "def quantile(x, p):\n",
    "    p_idx = int(p * len(x))\n",
    "    return sorted(x)[p_idx]"
   ]
  },
  {
   "cell_type": "code",
   "execution_count": 134,
   "metadata": {},
   "outputs": [
    {
     "name": "stdout",
     "output_type": "stream",
     "text": [
      "20.0\n",
      "28.0\n",
      "38.0\n"
     ]
    }
   ],
   "source": [
    "print(quantile(age, 0.25))\n",
    "print(quantile(age, 0.50))\n",
    "print(quantile(age, 0.75))\n"
   ]
  },
  {
   "cell_type": "code",
   "execution_count": 135,
   "metadata": {},
   "outputs": [
    {
     "data": {
      "text/plain": [
       "79.58"
      ]
     },
     "execution_count": 135,
     "metadata": {},
     "output_type": "execute_result"
    }
   ],
   "source": [
    "def data_range(x):\n",
    "    return max(x) - min(x)\n",
    "data_range(age)"
   ]
  },
  {
   "cell_type": "code",
   "execution_count": 136,
   "metadata": {},
   "outputs": [],
   "source": [
    "age = [float(i[5]) if i[5] else median(age) for i in data]"
   ]
  },
  {
   "cell_type": "code",
   "execution_count": 137,
   "metadata": {},
   "outputs": [],
   "source": [
    "%matplotlib inline\n",
    "import matplotlib.pyplot as plot"
   ]
  },
  {
   "cell_type": "code",
   "execution_count": 138,
   "metadata": {},
   "outputs": [],
   "source": [
    "def box_plot(x):\n",
    "    plot.boxplot(x)\n",
    "    \n",
    "cls1 = [Fare for Fare, cls in zip(fare, pclass) if cls == 1]\n",
    "cls2 = [Fare for Fare, cls in zip(fare, pclass) if cls == 2]\n",
    "cls3 = [Fare for Fare, cls in zip(fare, pclass) if cls == 3]"
   ]
  },
  {
   "cell_type": "code",
   "execution_count": 139,
   "metadata": {},
   "outputs": [
    {
     "data": {
      "image/png": "[encoded data removed]",
      "text/plain": [
       "<Figure size 432x288 with 1 Axes>"
      ]
     },
     "metadata": {},
     "output_type": "display_data"
    }
   ],
   "source": [
    "box_plot([cls1, cls2, cls3])"
   ]
  },
  {
   "cell_type": "code",
   "execution_count": 140,
   "metadata": {},
   "outputs": [
    {
     "data": {
      "image/png": "[encoded data removed]",
      "text/plain": [
       "<Figure size 432x288 with 1 Axes>"
      ]
     },
     "metadata": {},
     "output_type": "display_data"
    }
   ],
   "source": [
    "cls1 = [Age for Age, cls in zip(age, pclass) if cls == 1]\n",
    "cls2 = [Age for Age, cls in zip(age, pclass) if cls == 2]\n",
    "cls3 = [Age for Age, cls in zip(age, pclass) if cls == 3]\n",
    "\n",
    "box_plot([cls1, cls2, cls3])"
   ]
  },
  {
   "cell_type": "code",
   "execution_count": 141,
   "metadata": {},
   "outputs": [],
   "source": [
    "def variance(x):\n",
    "    m = mean(x)\n",
    "    dev = [(i - m) ** 2 for i in x]\n",
    "    return sum([d for d in dev]) / (len(x) - 1)    "
   ]
  },
  {
   "cell_type": "code",
   "execution_count": 142,
   "metadata": {},
   "outputs": [],
   "source": [
    "def std(x):\n",
    "    return variance(x) ** 0.5"
   ]
  },
  {
   "cell_type": "code",
   "execution_count": 143,
   "metadata": {},
   "outputs": [
    {
     "data": {
      "text/plain": [
       "49.693428597180905"
      ]
     },
     "execution_count": 143,
     "metadata": {},
     "output_type": "execute_result"
    }
   ],
   "source": [
    "std(fare)"
   ]
  },
  {
   "cell_type": "code",
   "execution_count": 144,
   "metadata": {},
   "outputs": [
    {
     "data": {
      "text/plain": [
       "13.019696550973194"
      ]
     },
     "execution_count": 144,
     "metadata": {},
     "output_type": "execute_result"
    }
   ],
   "source": [
    "std(age)"
   ]
  },
  {
   "cell_type": "code",
   "execution_count": 145,
   "metadata": {},
   "outputs": [
    {
     "ename": "TypeError",
     "evalue": "'str' object is not callable",
     "output_type": "error",
     "traceback": [
      "\u001b[0;31m---------------------------------------------------------------------------\u001b[0m",
      "\u001b[0;31mTypeError\u001b[0m                                 Traceback (most recent call last)",
      "\u001b[0;32m<ipython-input-145-341b60d7c113>\u001b[0m in \u001b[0;36m<module>\u001b[0;34m()\u001b[0m\n\u001b[1;32m      1\u001b[0m \u001b[0mplot\u001b[0m\u001b[0;34m.\u001b[0m\u001b[0mplot\u001b[0m\u001b[0;34m(\u001b[0m\u001b[0mage\u001b[0m\u001b[0;34m,\u001b[0m \u001b[0mfare\u001b[0m\u001b[0;34m,\u001b[0m \u001b[0;34m'.'\u001b[0m\u001b[0;34m)\u001b[0m\u001b[0;34m\u001b[0m\u001b[0m\n\u001b[0;32m----> 2\u001b[0;31m \u001b[0mplot\u001b[0m\u001b[0;34m.\u001b[0m\u001b[0mxlabel\u001b[0m\u001b[0;34m(\u001b[0m\u001b[0;34m'Age'\u001b[0m\u001b[0;34m)\u001b[0m\u001b[0;34m\u001b[0m\u001b[0m\n\u001b[0m\u001b[1;32m      3\u001b[0m \u001b[0mplot\u001b[0m\u001b[0;34m.\u001b[0m\u001b[0mylabel\u001b[0m\u001b[0;34m(\u001b[0m\u001b[0;34m'Fare'\u001b[0m\u001b[0;34m)\u001b[0m\u001b[0;34m\u001b[0m\u001b[0m\n\u001b[1;32m      4\u001b[0m \u001b[0mplot\u001b[0m\u001b[0;34m.\u001b[0m\u001b[0mshow\u001b[0m\u001b[0;34m(\u001b[0m\u001b[0;34m)\u001b[0m\u001b[0;34m\u001b[0m\u001b[0m\n",
      "\u001b[0;31mTypeError\u001b[0m: 'str' object is not callable"
     ]
    },
    {
     "data": {
      "image/png": "[encoded data removed]",
      "text/plain": [
       "<Figure size 432x288 with 1 Axes>"
      ]
     },
     "metadata": {},
     "output_type": "display_data"
    }
   ],
   "source": [
    "plot.plot(age, fare, '.')\n",
    "plot.xlabel('Age')\n",
    "plot.ylabel('Fare')\n",
    "plot.show()"
   ]
  },
  {
   "cell_type": "code",
   "execution_count": 146,
   "metadata": {},
   "outputs": [],
   "source": [
    "def dot(x, y):\n",
    "    return sum([i * j for i,j in zip(x, y)])\n",
    "\n",
    "def covarience(x, y):\n",
    "    m_x = mean(x)\n",
    "    m_y = mean(y)\n",
    "    dev_x = [i - m_x for i in x]\n",
    "    dev_y = [i - m_y for i in y]\n",
    "    return dot(dev_x, dev_y) / (len(x) - 1)\n",
    "    "
   ]
  },
  {
   "cell_type": "code",
   "execution_count": 147,
   "metadata": {},
   "outputs": [],
   "source": [
    "def correlation(x, y):\n",
    "    std_x = std(x)\n",
    "    std_y = std(y)\n",
    "    if std_x > 0 and std_y > 0:\n",
    "        return covarience(x, y) / std_x / std_y\n",
    "    else:\n",
    "        return 0"
   ]
  },
  {
   "cell_type": "code",
   "execution_count": 148,
   "metadata": {},
   "outputs": [
    {
     "data": {
      "text/plain": [
       "-0.5494996199439061"
      ]
     },
     "execution_count": 148,
     "metadata": {},
     "output_type": "execute_result"
    }
   ],
   "source": [
    "correlation(pclass, fare)"
   ]
  },
  {
   "cell_type": "code",
   "execution_count": 149,
   "metadata": {},
   "outputs": [],
   "source": [
    "from math import floor\n",
    "def make_bucket(x, bucket_size):\n",
    "    return Counter([bucket_size * floor(i / bucket_size) for i in x])"
   ]
  },
  {
   "cell_type": "code",
   "execution_count": 150,
   "metadata": {},
   "outputs": [],
   "source": [
    "def hist(x, bucket_size, title='', xlabel='', ylabel=''):\n",
    "    hist_data = make_bucket(x, bucket_size)\n",
    "    plot.bar(hist_data.keys(), hist_data.values(), width=bucket_size)\n",
    "    plot.xlabel = xlabel\n",
    "    plot.ylabel = ylabel\n",
    "    plot.title = title\n",
    "    plot.show"
   ]
  },
  {
   "cell_type": "code",
   "execution_count": 151,
   "metadata": {},
   "outputs": [
    {
     "data": {
      "image/png": "[encoded data removed]",
      "text/plain": [
       "<Figure size 432x288 with 1 Axes>"
      ]
     },
     "metadata": {},
     "output_type": "display_data"
    }
   ],
   "source": [
    "hist(age, 5, title='age', xlabel='Age', ylabel='Freq')"
   ]
  },
  {
   "cell_type": "code",
   "execution_count": 154,
   "metadata": {},
   "outputs": [
    {
     "data": {
      "image/png": "[encoded data removed]",
      "text/plain": [
       "<Figure size 432x288 with 1 Axes>"
      ]
     },
     "metadata": {},
     "output_type": "display_data"
    }
   ],
   "source": [
    "hist(fare, 5)"
   ]
  },
  {
   "cell_type": "code",
   "execution_count": 155,
   "metadata": {},
   "outputs": [
    {
     "data": {
      "text/plain": [
       "32.2042079685746"
      ]
     },
     "execution_count": 155,
     "metadata": {},
     "output_type": "execute_result"
    }
   ],
   "source": [
    "mean(fare)"
   ]
  },
  {
   "cell_type": "code",
   "execution_count": 156,
   "metadata": {},
   "outputs": [
    {
     "data": {
      "text/plain": [
       "[8.05]"
      ]
     },
     "execution_count": 156,
     "metadata": {},
     "output_type": "execute_result"
    }
   ],
   "source": [
    "mode(fare)"
   ]
  },
  {
   "cell_type": "code",
   "execution_count": 157,
   "metadata": {},
   "outputs": [],
   "source": [
    "buckets = make_bucket(age, 5)"
   ]
  },
  {
   "cell_type": "code",
   "execution_count": 163,
   "metadata": {},
   "outputs": [],
   "source": [
    "def count_survivors(buckets, bucket_size):\n",
    "    res = {}\n",
    "    for bucket, freq in buckets.items():\n",
    "        for s, a in zip(survived, age):\n",
    "            if bucket <= a < bucket + bucket_size:\n",
    "                res[bucket] = res.get(bucket, 0) + s\n",
    "    return res"
   ]
  },
  {
   "cell_type": "code",
   "execution_count": 164,
   "metadata": {},
   "outputs": [
    {
     "data": {
      "text/plain": [
       "{0: 27,\n",
       " 5: 11,\n",
       " 10: 7,\n",
       " 15: 34,\n",
       " 20: 39,\n",
       " 25: 90,\n",
       " 30: 40,\n",
       " 35: 33,\n",
       " 40: 18,\n",
       " 45: 16,\n",
       " 50: 14,\n",
       " 55: 6,\n",
       " 60: 6,\n",
       " 65: 0,\n",
       " 70: 0,\n",
       " 80: 1}"
      ]
     },
     "execution_count": 164,
     "metadata": {},
     "output_type": "execute_result"
    }
   ],
   "source": [
    "count_survivors(buckets, 5)"
   ]
  },
  {
   "cell_type": "code",
   "execution_count": 165,
   "metadata": {},
   "outputs": [],
   "source": [
    "c = count_survivors(buckets, 5)"
   ]
  },
  {
   "cell_type": "code",
   "execution_count": 167,
   "metadata": {},
   "outputs": [
    {
     "data": {
      "text/plain": [
       "<BarContainer object of 16 artists>"
      ]
     },
     "execution_count": 167,
     "metadata": {},
     "output_type": "execute_result"
    },
    {
     "data": {
      "image/png": "[encoded data removed]",
      "text/plain": [
       "<Figure size 432x288 with 1 Axes>"
      ]
     },
     "metadata": {},
     "output_type": "display_data"
    }
   ],
   "source": [
    "plot.bar(c.keys(), c.values(), width=5)"
   ]
  },
  {
   "cell_type": "code",
   "execution_count": 170,
   "metadata": {},
   "outputs": [],
   "source": [
    "sex_survival = {}\n",
    "for sx, survive in zip(sex, survived):\n",
    "    sex_survival[sx] = sex_survival.get(sx, 0) + survive"
   ]
  },
  {
   "cell_type": "code",
   "execution_count": null,
   "metadata": {},
   "outputs": [],
   "source": []
  }
 ],
 "metadata": {
  "kernelspec": {
   "display_name": "Python 3",
   "language": "python",
   "name": "python3"
  },
  "language_info": {
   "codemirror_mode": {
    "name": "ipython",
    "version": 3
   },
   "file_extension": ".py",
   "mimetype": "text/x-python",
   "name": "python",
   "nbconvert_exporter": "python",
   "pygments_lexer": "ipython3",
   "version": "3.5.2"
  }
 },
 "nbformat": 4,
 "nbformat_minor": 2
}
